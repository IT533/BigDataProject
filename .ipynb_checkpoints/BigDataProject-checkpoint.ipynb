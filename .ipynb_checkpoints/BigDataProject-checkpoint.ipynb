{
 "cells": [
  {
   "cell_type": "code",
   "execution_count": 1,
   "metadata": {},
   "outputs": [
    {
     "name": "stdout",
     "output_type": "stream",
     "text": [
      "BigDataProject.ipynb  \u001b[1m\u001b[36minput\u001b[m\u001b[m/                tags\r\n",
      "README.md             \u001b[1m\u001b[36moutput\u001b[m\u001b[m/               \u001b[1m\u001b[36mtimer\u001b[m\u001b[m/\r\n",
      "RawDataProcessing.md  requirements.txt      \u001b[1m\u001b[36mtools\u001b[m\u001b[m/\r\n",
      "Untitled1.ipynb       \u001b[1m\u001b[36msrc\u001b[m\u001b[m/                  \u001b[1m\u001b[36mvenv\u001b[m\u001b[m/\r\n"
     ]
    }
   ],
   "source": [
    "ls"
   ]
  },
  {
   "cell_type": "code",
   "execution_count": null,
   "metadata": {},
   "outputs": [],
   "source": []
  }
 ],
 "metadata": {
  "kernelspec": {
   "display_name": "Python 3",
   "language": "python",
   "name": "python3"
  },
  "language_info": {
   "codemirror_mode": {
    "name": "ipython",
    "version": 3
   },
   "file_extension": ".py",
   "mimetype": "text/x-python",
   "name": "python",
   "nbconvert_exporter": "python",
   "pygments_lexer": "ipython3",
   "version": "3.7.0"
  }
 },
 "nbformat": 4,
 "nbformat_minor": 2
}
